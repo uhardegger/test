{
 "cells": [
  {
   "cell_type": "markdown",
   "metadata": {},
   "source": [
    "# Advent of Code 2019"
   ]
  },
  {
   "cell_type": "markdown",
   "metadata": {},
   "source": [
    "Source: https://adventofcode.com/"
   ]
  },
  {
   "cell_type": "markdown",
   "metadata": {},
   "source": [
    "## Day 00"
   ]
  },
  {
   "cell_type": "code",
   "execution_count": 11,
   "metadata": {},
   "outputs": [
    {
     "name": "stdout",
     "output_type": "stream",
     "text": [
      "Required Full: 3423279\n"
     ]
    }
   ],
   "source": [
    "required_full=0\n",
    "with open(\"puzzles/puzzle-day-01.txt\", \"r\") as module_sizes:\n",
    "    for size in module_sizes:\n",
    "        required_full += int(int(size) / 3) - 2\n",
    "print(\"Required Full: \" + str(required_full))"
   ]
  },
  {
   "cell_type": "markdown",
   "metadata": {},
   "source": [
    "## Day 01"
   ]
  },
  {
   "cell_type": "code",
   "execution_count": 45,
   "metadata": {},
   "outputs": [
    {
     "name": "stdout",
     "output_type": "stream",
     "text": [
      "Required Full: 5132018\n"
     ]
    }
   ],
   "source": [
    "def calculate_full(size, intermediate):\n",
    "    new_size = max(0, int(int(size) / 3) - 2)\n",
    "    ret = intermediate if new_size < 1 else calculate_full(new_size, intermediate + new_size)\n",
    "    #print(\"intermediate:\" + str(intermediate) + \" | size:\" + str(size) + \" + new_size:\" + str(new_size) + \" -> \" + str(ret))\n",
    "    return ret\n",
    "\n",
    "#print(\"test \" + str(calculate_full(1969, 0)))\n",
    "\n",
    "# Calculate the module weights\n",
    "required_full=0\n",
    "with open(\"puzzles/puzzle-day-01.txt\", \"r\") as module_sizes:\n",
    "    for size in module_sizes:\n",
    "        required_full += calculate_full(size, 0)\n",
    "\n",
    "print(\"Required Full: \" + str(required_full))"
   ]
  },
  {
   "cell_type": "code",
   "execution_count": null,
   "metadata": {},
   "outputs": [],
   "source": []
  }
 ],
 "metadata": {
  "kernelspec": {
   "display_name": "Python 3",
   "language": "python",
   "name": "python3"
  },
  "language_info": {
   "codemirror_mode": {
    "name": "ipython",
    "version": 3
   },
   "file_extension": ".py",
   "mimetype": "text/x-python",
   "name": "python",
   "nbconvert_exporter": "python",
   "pygments_lexer": "ipython3",
   "version": "3.7.3"
  }
 },
 "nbformat": 4,
 "nbformat_minor": 2
}
