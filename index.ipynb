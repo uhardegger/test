{
 "cells": [
  {
   "cell_type": "markdown",
   "metadata": {},
   "source": [
    "# Advent of Code 2019"
   ]
  },
  {
   "cell_type": "markdown",
   "metadata": {},
   "source": [
    "Source: https://adventofcode.com/"
   ]
  },
  {
   "cell_type": "markdown",
   "metadata": {},
   "source": [
    "## Day 00 \"ful for modules\""
   ]
  },
  {
   "cell_type": "code",
   "execution_count": 1,
   "metadata": {},
   "outputs": [
    {
     "name": "stdout",
     "output_type": "stream",
     "text": [
      "Required Full: 3423279\n"
     ]
    }
   ],
   "source": [
    "required_full=0\n",
    "with open(\"puzzles/puzzle-day-01.txt\", \"r\") as module_sizes:\n",
    "    for size in module_sizes:\n",
    "        required_full += int(int(size) / 3) - 2\n",
    "print(\"Required Full: \" + str(required_full))"
   ]
  },
  {
   "cell_type": "markdown",
   "metadata": {},
   "source": [
    "## Day 01 \"include ful for ful\""
   ]
  },
  {
   "cell_type": "code",
   "execution_count": 2,
   "metadata": {},
   "outputs": [
    {
     "name": "stdout",
     "output_type": "stream",
     "text": [
      "Required Full: 5132018\n"
     ]
    }
   ],
   "source": [
    "def calculate_full(size, intermediate):\n",
    "    new_size = max(0, int(int(size) / 3) - 2)\n",
    "    ret = intermediate if new_size < 1 else calculate_full(new_size, intermediate + new_size)\n",
    "    #print(\"intermediate:\" + str(intermediate) + \" | size:\" + str(size) + \" + new_size:\" + str(new_size) + \" -> \" + str(ret))\n",
    "    return ret\n",
    "\n",
    "#print(\"test \" + str(calculate_full(1969, 0)))\n",
    "\n",
    "# Calculate the module weights\n",
    "required_full=0\n",
    "with open(\"puzzles/puzzle-day-01.txt\", \"r\") as module_sizes:\n",
    "    for size in module_sizes:\n",
    "        required_full += calculate_full(size, 0)\n",
    "\n",
    "print(\"Required Full: \" + str(required_full))"
   ]
  },
  {
   "cell_type": "markdown",
   "metadata": {},
   "source": [
    "## Day 01 \"Intcode programm\""
   ]
  },
  {
   "cell_type": "code",
   "execution_count": 18,
   "metadata": {},
   "outputs": [
    {
     "name": "stdout",
     "output_type": "stream",
     "text": [
      "result: 3500\n"
     ]
    }
   ],
   "source": [
    "def intcode_runner(program, step=0):\n",
    "    op, arg0, arg1, to = (program[i] for i in range(step, step+4))\n",
    "    #print(\"op: \" + str(op) + \" arg0: \" + str(arg0) + \" arg1: \" + str(arg1) + \" --> \" + str(to))\n",
    "    switcher = {\n",
    "        1: lambda v0, v1: v0 + v1,\n",
    "        2: lambda v0, v1: v0 * v1\n",
    "    }\n",
    "    if op == 99:\n",
    "        #print('step: ' + str(step) + ' DONE')\n",
    "        return program\n",
    "    else:\n",
    "        f = switcher.get(op, lambda v0, v1, :'ERROR')\n",
    "        res = f(program[arg0], program[arg1])\n",
    "        #print('  res = ' + str(res) + \" (from arg0:\" + str(arg0) + \",\" + str(program[arg0]) + \" arg1:\" + str(arg1) + \",\" + str(program[arg1]) + \")\")\n",
    "        program[to] = res\n",
    "        return intcode_runner(program, step+4)\n",
    "    \n",
    "\n",
    "program=[1,9,10,3,2,3,11,0,99,30,40,50]\n",
    "res = intcode_runner(program)\n",
    "#print(','.join(map(str, res)))\n",
    "print('result: ' + str(program[0]))"
   ]
  },
  {
   "cell_type": "code",
   "execution_count": null,
   "metadata": {},
   "outputs": [],
   "source": [
    "ret = (i for i in range(0,4))\n",
    "print(str(ret))"
   ]
  },
  {
   "cell_type": "code",
   "execution_count": null,
   "metadata": {},
   "outputs": [],
   "source": []
  },
  {
   "cell_type": "code",
   "execution_count": null,
   "metadata": {},
   "outputs": [],
   "source": []
  }
 ],
 "metadata": {
  "kernelspec": {
   "display_name": "Python 3",
   "language": "python",
   "name": "python3"
  },
  "language_info": {
   "codemirror_mode": {
    "name": "ipython",
    "version": 3
   },
   "file_extension": ".py",
   "mimetype": "text/x-python",
   "name": "python",
   "nbconvert_exporter": "python",
   "pygments_lexer": "ipython3",
   "version": "3.7.3"
  }
 },
 "nbformat": 4,
 "nbformat_minor": 2
}
