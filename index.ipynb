{
 "cells": [
  {
   "cell_type": "markdown",
   "metadata": {},
   "source": [
    "# Advent of Code 2019"
   ]
  },
  {
   "cell_type": "markdown",
   "metadata": {},
   "source": [
    "Source: https://adventofcode.com/"
   ]
  },
  {
   "cell_type": "markdown",
   "metadata": {},
   "source": [
    "## Day 00 \"ful for modules\""
   ]
  },
  {
   "cell_type": "code",
   "execution_count": 1,
   "metadata": {},
   "outputs": [
    {
     "name": "stdout",
     "output_type": "stream",
     "text": [
      "Required Full: 3423279\n"
     ]
    }
   ],
   "source": [
    "required_full=0\n",
    "with open(\"puzzles/puzzle-day-01.txt\", \"r\") as module_sizes:\n",
    "    for size in module_sizes:\n",
    "        required_full += int(int(size) / 3) - 2\n",
    "print(\"Required Full: \" + str(required_full))"
   ]
  },
  {
   "cell_type": "markdown",
   "metadata": {},
   "source": [
    "## Day 01 \"include ful for ful\""
   ]
  },
  {
   "cell_type": "code",
   "execution_count": 2,
   "metadata": {},
   "outputs": [
    {
     "name": "stdout",
     "output_type": "stream",
     "text": [
      "Required Full: 5132018\n"
     ]
    }
   ],
   "source": [
    "def calculate_full(size, intermediate):\n",
    "    new_size = max(0, int(int(size) / 3) - 2)\n",
    "    ret = intermediate if new_size < 1 else calculate_full(new_size, intermediate + new_size)\n",
    "    #print(\"intermediate:\" + str(intermediate) + \" | size:\" + str(size) + \" + new_size:\" + str(new_size) + \" -> \" + str(ret))\n",
    "    return ret\n",
    "\n",
    "#print(\"test \" + str(calculate_full(1969, 0)))\n",
    "\n",
    "# Calculate the module weights\n",
    "required_full=0\n",
    "with open(\"puzzles/puzzle-day-01.txt\", \"r\") as module_sizes:\n",
    "    for size in module_sizes:\n",
    "        required_full += calculate_full(size, 0)\n",
    "\n",
    "print(\"Required Full: \" + str(required_full))"
   ]
  },
  {
   "cell_type": "markdown",
   "metadata": {},
   "source": [
    "## Day 02 \"Intcode programm\""
   ]
  },
  {
   "cell_type": "code",
   "execution_count": 25,
   "metadata": {},
   "outputs": [
    {
     "name": "stdout",
     "output_type": "stream",
     "text": [
      "result: 3058646\n"
     ]
    }
   ],
   "source": [
    "def intcode_runner(memory, step=0):\n",
    "    op, p0, p1, to = (memory[i] for i in range(step, step+4))\n",
    "    #print(\"op: \" + str(op) + \" p0: \" + str(p0) + \" p1: \" + str(p1) + \" --> \" + str(to))\n",
    "    switcher = {\n",
    "        1: lambda v0, v1: v0 + v1,\n",
    "        2: lambda v0, v1: v0 * v1\n",
    "    }\n",
    "    if op == 99:\n",
    "        #print('step: ' + str(step) + ' DONE')\n",
    "        return memory\n",
    "    else:\n",
    "        f = switcher.get(op, lambda v0, v1, :'ERROR')\n",
    "        res = f(memory[p0], memory[p1])\n",
    "        #print('  res = ' + str(res) + \" (from p0:\" + str(p0) + \",\" + str(memory[p0]) + \" p1:\" + str(p1) + \",\" + str(memory[p1]) + \")\")\n",
    "        memory[to] = res\n",
    "        return intcode_runner(memory, step+4)\n",
    "    \n",
    "\n",
    "#program=[1,9,10,3,2,3,11,0,99,30,40,50]\n",
    "\n",
    "memory=[1,0,0,3,1,1,2,3,1,3,4,3,1,5,0,3,2,1,6,19,2,19,6,23,1,23,5,27,1,9,27,31,1,31,10,35,2,35,9,39,1,5,39,43,2,43,9,47,1,5,47,51,2,51,13,55,1,55,10,59,1,59,10,63,2,9,63,67,1,67,5,71,2,13,71,75,1,75,10,79,1,79,6,83,2,13,83,87,1,87,6,91,1,6,91,95,1,10,95,99,2,99,6,103,1,103,5,107,2,6,107,111,1,10,111,115,1,115,5,119,2,6,119,123,1,123,5,127,2,127,6,131,1,131,5,135,1,2,135,139,1,139,13,0,99,2,0,14,0]\n",
    "memory[1]=12\n",
    "memory[2]=2\n",
    "res = intcode_runner(memory)\n",
    "#print(','.join(map(str, res)))\n",
    "print('result: ' + str(memory[0]))"
   ]
  },
  {
   "cell_type": "code",
   "execution_count": null,
   "metadata": {},
   "outputs": [],
   "source": []
  }
 ],
 "metadata": {
  "kernelspec": {
   "display_name": "Python 3",
   "language": "python",
   "name": "python3"
  },
  "language_info": {
   "codemirror_mode": {
    "name": "ipython",
    "version": 3
   },
   "file_extension": ".py",
   "mimetype": "text/x-python",
   "name": "python",
   "nbconvert_exporter": "python",
   "pygments_lexer": "ipython3",
   "version": "3.7.3"
  }
 },
 "nbformat": 4,
 "nbformat_minor": 2
}
